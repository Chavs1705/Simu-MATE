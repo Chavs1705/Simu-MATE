{
 "cells": [
  {
   "cell_type": "markdown",
   "id": "80212b89-c567-4d24-849a-5dfebc97694d",
   "metadata": {},
   "source": [
    "SANTIAGO CHAVARRIA MINAKATA-9 DE SEP"
   ]
  },
  {
   "cell_type": "markdown",
   "id": "016af917-c74e-49b4-99d6-f244ec258c1a",
   "metadata": {},
   "source": [
    "### Ejercicio 1\n",
    "\n",
    "Una multinacional farmacéutica desea fabricar un compuesto nutritivo a base de dos productos A y B.  El producto A contiene  $30\\%$ de proteínas,  un $1\\%$ de grasas y un  $10\\%$ de azúcares.  El producto B  contiene  un  $5\\%$  de proteínas,  un  $7\\%$ de grasas  y un  $10\\%$  de  azúcares.\n",
    "\n",
    "El compuesto debe de tener,  al menos, $25g$ de proteínas,  $6g$ de grasas y $30g$ de azúcares.  El coste del producto A es de $0.6$ u.m./g  y el de B es de $0.2$  u.m./g\n",
    "\n",
    "Se desea encontrar la cantidad en gramos de cada producto para que el coste total sea mínimo.\n",
    "\n",
    "Formular el problema de decidir cuánto hacer de cada producto como un problema de programación lineal."
   ]
  },
  {
   "cell_type": "markdown",
   "id": "17a660ea-1a9a-419d-abd4-65d0c6929349",
   "metadata": {},
   "source": [
    "1. Identicar criterio de optimización: minimizar costo\n",
    "\n",
    "2. Puedo influir en \n",
    "\n",
    "   xA y en xB\n",
    " \n",
    "3. Funcion costo:\n",
    "\n",
    "   .6xA+.2xB\n",
    "   \n",
    "6. Restricciones mayor o igual que 25g de protenias, menor o igual que 6g de grasas y azúcares menor o igual que 30g\n",
    "   \n",
    "   Formulas:\n",
    "   \n",
    "   $.3x_A+.05x_B\\geq 25$\n",
    "   \n",
    "   $.01x_A+.07x_B\\leq 6$\n",
    "   \n",
    "   $.1x_A+.1X_B\\leq30$"
   ]
  },
  {
   "cell_type": "code",
   "execution_count": 39,
   "id": "43449a3d-6671-4352-9867-32dd79b409d6",
   "metadata": {},
   "outputs": [
    {
     "data": {
      "text/plain": [
       "        message: Optimization terminated successfully. (HiGHS Status 7: Optimal)\n",
       "        success: True\n",
       "         status: 0\n",
       "            fun: 76.0\n",
       "              x: [ 4.000e+01  2.600e+02]\n",
       "            nit: 2\n",
       "          lower:  residual: [ 4.000e+01  2.600e+02]\n",
       "                 marginals: [ 0.000e+00  0.000e+00]\n",
       "          upper:  residual: [       inf        inf]\n",
       "                 marginals: [ 0.000e+00  0.000e+00]\n",
       "          eqlin:  residual: []\n",
       "                 marginals: []\n",
       "        ineqlin:  residual: [ 0.000e+00  1.260e+01  0.000e+00]\n",
       "                 marginals: [-1.600e+00 -0.000e+00 -1.200e+00]\n",
       " mip_node_count: 0\n",
       " mip_dual_bound: 0.0\n",
       "        mip_gap: 0.0"
      ]
     },
     "execution_count": 39,
     "metadata": {},
     "output_type": "execute_result"
    }
   ],
   "source": [
    "import numpy as np\n",
    "import scipy.optimize as opt\n",
    "\n",
    "c = np.array([0.6, 0.2])\n",
    "Aub = np.array([\n",
    "    [-0.3, -0.05],  \n",
    "    [-0.01, -0.07],  \n",
    "    [-0.1, -0.1] \n",
    "])\n",
    "bub = np.array([-25, -6, -30])\n",
    "sol = opt.linprog(c, Aub, bub)\n",
    "\n",
    "sol"
   ]
  },
  {
   "cell_type": "markdown",
   "id": "a99890ec-6b88-4133-bf8a-c047bbc84ff5",
   "metadata": {},
   "source": [
    "A=40\n",
    "B=260"
   ]
  },
  {
   "cell_type": "markdown",
   "id": "e17ca9b3-d3d3-4c22-b8a6-3781994dfa11",
   "metadata": {},
   "source": [
    "## Ejercicio 2\n",
    "\r\n",
    "Una fábrica de carrocerías de automóviles y camiones tiene dos naves.\r\n",
    "\r\n",
    "En la nave A, para hacer la carrocería de un camión, se invierten siete días-operario, para fabricar la de un coche se precisan dos días-operario.\r\n",
    "\r\n",
    "En la nave B se invierten tres días operario tanto en carrocerías de camión como de coche.\r\n",
    "\r\n",
    "Por limitaciones de mano de obra y maquinaria, la nave A dispone de \r\n",
    " días operario, y la nave B de \r\n",
    " días-operario.\r\n",
    "\r\n",
    "Si los beneficios que se obtienen por cada camión son de \r\n",
    " u.m y por cada automóvil \r\n",
    " u.m, ¿cuántas unidades de cada uno se deben producir para maximizar las ganancias?"
   ]
  },
  {
   "cell_type": "markdown",
   "id": "45e547ea-8872-4d52-b681-c2e718139283",
   "metadata": {},
   "source": [
    "1. Maximizar\n",
    "\n",
    "2. En que se puede influir?\n",
    " \n",
    "   Distriubucion de la produccion\n",
    "   \n",
    "3. Funcion \n",
    "    $$ 600C+200A $$\n",
    "   \n",
    "4. Restricciones:\n",
    " \n",
    "Capacidad de la nave A:\n",
    "\n",
    "$7C +2A\\leq300$\n",
    "\n",
    "Capacidad de la nave B:\n",
    "\n",
    "$3C+3A\\leq270$"
   ]
  },
  {
   "cell_type": "code",
   "execution_count": 23,
   "id": "3daa91e6-c764-4d7a-97a1-d4bab4740174",
   "metadata": {},
   "outputs": [
    {
     "data": {
      "text/plain": [
       "        message: Optimization terminated successfully. (HiGHS Status 7: Optimal)\n",
       "        success: True\n",
       "         status: 0\n",
       "            fun: -27600.0\n",
       "              x: [ 2.400e+01  6.600e+01]\n",
       "            nit: 2\n",
       "          lower:  residual: [ 2.400e+01  6.600e+01]\n",
       "                 marginals: [ 0.000e+00  0.000e+00]\n",
       "          upper:  residual: [       inf        inf]\n",
       "                 marginals: [ 0.000e+00  0.000e+00]\n",
       "          eqlin:  residual: []\n",
       "                 marginals: []\n",
       "        ineqlin:  residual: [ 0.000e+00  0.000e+00]\n",
       "                 marginals: [-8.000e+01 -1.333e+01]\n",
       " mip_node_count: 0\n",
       " mip_dual_bound: 0.0\n",
       "        mip_gap: 0.0"
      ]
     },
     "execution_count": 23,
     "metadata": {},
     "output_type": "execute_result"
    }
   ],
   "source": [
    "import numpy as np\n",
    "import scipy.optimize as opt\n",
    "\n",
    "c = np.array([-600, -200])\n",
    "Aub = np.array([\n",
    "    [7, 2],\n",
    "    [3, 3]\n",
    "])\n",
    "bub = np.array([300, 270])\n",
    "sol = opt.linprog(c, Aub, bub)\n",
    "sol\n"
   ]
  },
  {
   "cell_type": "markdown",
   "id": "78fbae5b-1c23-4e32-b468-5d5d0202b3d6",
   "metadata": {},
   "source": [
    "El beneficio máximo obtenido es de 27,600 u.m. Para lograr este beneficio, la fábrica debe producir 66 coches y 24 camiones"
   ]
  },
  {
   "cell_type": "markdown",
   "id": "80065b25-a8d0-47c2-89cf-d74fbb1f1daf",
   "metadata": {},
   "source": [
    "### Ejercicio 3\n",
    "**Actividad.** Mónica hace aretes y cadenitas de joyería. Es tan buena, que todo lo que hace lo vende.\n",
    "\n",
    "Le toma 30 minutos hacer un par de aretes y una hora hacer una cadenita, y como Mónica también es estudihambre, solo dispone de 10 horas a la semana para hacer las joyas. Por otra parte, el material que compra solo le alcanza para hacer 15 unidades (el par de aretes cuenta como unidad) de joyas por semana.\n",
    "\n",
    "La utilidad que le deja la venta de las joyas es $\\$15$ en cada par de aretes y $\\$20$ en cada cadenita.\n",
    "\n",
    "¿Cuántos pares de aretes y cuántas cadenitas debería hacer Mónica para maximizar su utilidad?\n",
    "\n",
    "Formular el problema en la forma explicada y obtener la solución gráfica (puede ser a mano)."
   ]
  },
  {
   "cell_type": "markdown",
   "id": "1188c89d-b09d-45f4-b64f-de1f7e3f97a3",
   "metadata": {},
   "source": [
    "1. Maximizar la utilidad.\n",
    "\n",
    "2. Sobre que se puede influir\n",
    "\n",
    "A: Número de de aretes.\n",
    "\n",
    "C: Número de cadenitas.\n",
    "\n",
    "3. Función\n",
    "\n",
    "$Z=15A+20C$\n",
    "\n",
    "4. Restricciones\n",
    "\n",
    "Tiempo: Mónica tiene un total de 10 horas a la semana. Cada par de aretes toma 0.5 horas y cada cadenita 1 hora, por lo que:\n",
    "\n",
    "$0.5A+C\\leq10$\n",
    "\n",
    "Material: Solo tiene material suficiente para hacer 15 unidades de joyería, lo que implica que la suma de pares de aretes y cadenitas no puede superar 1\n",
    "\n",
    "$A+C\\leq15$"
   ]
  },
  {
   "cell_type": "code",
   "execution_count": 34,
   "id": "28498fab-ce76-4a52-8fa2-5573fabf0f1e",
   "metadata": {},
   "outputs": [
    {
     "data": {
      "text/plain": [
       "        message: Optimization terminated successfully. (HiGHS Status 7: Optimal)\n",
       "        success: True\n",
       "         status: 0\n",
       "            fun: -250.0\n",
       "              x: [ 1.000e+01  5.000e+00]\n",
       "            nit: 2\n",
       "          lower:  residual: [ 1.000e+01  5.000e+00]\n",
       "                 marginals: [ 0.000e+00  0.000e+00]\n",
       "          upper:  residual: [       inf        inf]\n",
       "                 marginals: [ 0.000e+00  0.000e+00]\n",
       "          eqlin:  residual: []\n",
       "                 marginals: []\n",
       "        ineqlin:  residual: [ 0.000e+00  0.000e+00]\n",
       "                 marginals: [-1.000e+01 -1.000e+01]\n",
       " mip_node_count: 0\n",
       " mip_dual_bound: 0.0\n",
       "        mip_gap: 0.0"
      ]
     },
     "execution_count": 34,
     "metadata": {},
     "output_type": "execute_result"
    }
   ],
   "source": [
    "import scipy.optimize as opt\n",
    "import numpy as np\n",
    "c = np.array ([-15, \n",
    "            -20])\n",
    "Aub = np.array([\n",
    "    [.5,1], \n",
    "    [1, 1]\n",
    "])\n",
    "bub = np.array ([10, 15])\n",
    "sol = opt.linprog(c, Aub, bub)\n",
    "sol"
   ]
  },
  {
   "cell_type": "markdown",
   "id": "25541b23-e18e-472b-bf1f-e23f01c292e5",
   "metadata": {},
   "source": [
    "Ganancia = 250\n",
    "con 10 aretes y 5 collares"
   ]
  },
  {
   "cell_type": "markdown",
   "id": "ca2f3677-4bc1-4d3f-b5d7-113de3df92d9",
   "metadata": {},
   "source": [
    "## 4. Problema de transporte 1\n",
    "- **Referencia**: http://bdigital.unal.edu.co/5037/4/guillermojimenezlozano.2006_Parte1.pdf\n",
    "\n",
    "Una  empresa tiene dos fábricas A y B.  En ellas  se fabrica un determinado  producto, a razón de 500  y 400 unidades por día respectivamente.  El producto  ha  de  ser distribuido posteriormente  a  tres  centros  C,  D  y  E,  que  requieren,  respectivamente,  200,  300  y  400  unidades.  Los  costos  de  transportar cada unidad del producto desde cada fábrica a cada centro distribuidor son los  indicados  en la tabla  siguiente: \n",
    "\n",
    "Factoría|C|D|E|Fabricación (Unidades)\n",
    ":----|----|----|----|----\n",
    "A|  50 u.m|60 u.m|10 u.m|500 u\n",
    "B|  25 u.m|40 u.m|20 u.m|400 u\n",
    "Demanda|200|300|400|\n",
    "\n",
    "**¿De qué manera  deben  organizar  el transporte a fin de que los gastos sean mínimos?**\n",
    "\n",
    "\n",
    "Resolver con `linprog`"
   ]
  },
  {
   "cell_type": "markdown",
   "id": "8078063d-0fdd-4a9a-8650-14092a79c335",
   "metadata": {},
   "source": [
    "1. Minimizar los costos.\n",
    "\n",
    "2. Sobre que puedo influir\n",
    "   \n",
    "   AC: Cantidad de productos fabricados en el centro A para el centro C.\n",
    "   \n",
    "   AD: Cantidad de productos fabricados en el centro A para el centro D.\n",
    "   \n",
    "   AE: Cantidad de productos fabricados en el centro A para el centro E.\n",
    "   \n",
    "   BC: Cantidad de productos fabricados en el centro B para el centro C.\n",
    "   \n",
    "   BD: Cantidad de productos fabricados en el centro B para el centro D.\n",
    "   \n",
    "   BE: Cantidad de productos fabricados en el centro B para el centro E.\n",
    "   \n",
    "4. Función\n",
    "   Minimizar: C=50AC+60AD+10AE+25BC+40BD+20BE\n",
    "5. Restricciones:\n",
    "\n",
    "Centro C:\n",
    "\n",
    "$50AC+25BC\\leq200$\n",
    "\n",
    "Centro D:\n",
    "\n",
    "$60AD+40BD\\leq300$\n",
    "\n",
    "Centro E:\n",
    "\n",
    "$10AE+20BE\\leq40$"
   ]
  },
  {
   "cell_type": "code",
   "execution_count": 47,
   "id": "c964eca8-6150-4515-944f-9e4581c709b2",
   "metadata": {},
   "outputs": [
    {
     "data": {
      "text/plain": [
       "        message: Optimization terminated successfully. (HiGHS Status 7: Optimal)\n",
       "        success: True\n",
       "         status: 0\n",
       "            fun: 540.0\n",
       "              x: [ 4.000e+00  5.000e+00  4.000e+00  0.000e+00  0.000e+00\n",
       "                   0.000e+00]\n",
       "            nit: 0\n",
       "          lower:  residual: [ 4.000e+00  5.000e+00  4.000e+00  0.000e+00\n",
       "                              0.000e+00  0.000e+00]\n",
       "                 marginals: [ 0.000e+00  0.000e+00  0.000e+00  0.000e+00\n",
       "                              0.000e+00  0.000e+00]\n",
       "          upper:  residual: [       inf        inf        inf        inf\n",
       "                                    inf        inf]\n",
       "                 marginals: [ 0.000e+00  0.000e+00  0.000e+00  0.000e+00\n",
       "                              0.000e+00  0.000e+00]\n",
       "          eqlin:  residual: []\n",
       "                 marginals: []\n",
       "        ineqlin:  residual: [ 0.000e+00  0.000e+00  0.000e+00]\n",
       "                 marginals: [-1.000e+00 -1.000e+00 -1.000e+00]\n",
       " mip_node_count: 0\n",
       " mip_dual_bound: 0.0\n",
       "        mip_gap: 0.0"
      ]
     },
     "execution_count": 47,
     "metadata": {},
     "output_type": "execute_result"
    }
   ],
   "source": [
    "import numpy as np\n",
    "import scipy.optimize as opt\n",
    "\n",
    "c = np.array([50, \n",
    "            60, \n",
    "            10, \n",
    "            25, \n",
    "            40, \n",
    "            20])\n",
    "Aub = np.array([\n",
    "    [-50, 0, 0, -25, 0, 0], \n",
    "    [0, -60, 0, 0, -40, 0], \n",
    "    [0, 0, -10, 0, 0, -20]\n",
    "])\n",
    "bub = np.array([-200, -300, -40])\n",
    "sol = opt.linprog(c, A_ub=Aub, b_ub=bub)\n",
    "sol"
   ]
  },
  {
   "cell_type": "markdown",
   "id": "89f52fc7-a936-4387-b92e-f5c627b06403",
   "metadata": {},
   "source": [
    "Ganancia=900\n",
    "\n",
    "AC=4\n",
    "\n",
    "AD=5\n",
    "\n",
    "AE=4\n"
   ]
  },
  {
   "cell_type": "markdown",
   "id": "9398fc12-988e-421d-9025-d1fbc107dbe3",
   "metadata": {},
   "source": [
    "## Ejercicio 5\n",
    "El objetivo de este problema es determinar la mejor estrategia de inversión, dados diferentes tipos de bono, la máxima cantidad que puede ser invertida en cada bono, el porcentaje de retorno y los años de madurez. También hay una cantidad fija de dinero disponible ($\\$750,000$). Por lo menos la mitad de este dinero debe ser invertido en bonos con 10 años o más para la madurez. Se puede invertir un máximo del $25\\%$ de esta cantidad en cada bono. Finalmente, hay otra restricción que no permite usar más de $35\\%$ en bonos de alto riesgo.\n",
    "\n",
    "Existen seis (6) opciones de inversión con las letras correspondientes $A_i$\n",
    "\n",
    "1. $A_1$:(Tasa de retorno=$8.65\\%$; Años para la madurez=11, Riesgo=Bajo)\n",
    "1. $A_2$:(Tasa de retorno=$9.50\\%$; Años para la madurez=10, Riesgo=Alto)\n",
    "1. $A_3$:(Tasa de retorno=$10.00\\%$; Años para la madurez=6, Riesgo=Alto)\n",
    "1. $A_4$:(Tasa de retorno=$8.75\\%$; Años para la madurez=10, Riesgo=Bajo)\n",
    "1. $A_5$:(Tasa de retorno=$9.25\\%$; Años para la madurez=7, Riesgo=Alto)\n",
    "1. $A_6$:(Tasa de retorno=$9.00\\%$; Años para la madurez=13, Riesgo=Bajo)\n",
    "\n",
    "Lo que se quiere entonces es maximizar el retorno que deja la inversión.\n",
    "\n",
    "Este problema puede ser resuelto con programación lineal. Formalmente, puede ser descrito como:\n",
    "\n",
    "$$\\max_{A_1,A_2,...,A_6}\\sum^{6}_{i=1} A_iR_i,$$\n",
    "\n",
    "donde $A_i$ representa la cantidad invertida en la opción, y $R_i$ representa la tasa de retorno respectiva.')\n"
   ]
  },
  {
   "cell_type": "markdown",
   "id": "abaa68a3-2071-4d40-b904-a19cd4f33bc2",
   "metadata": {},
   "source": [
    "1. Maximizar el retorno total de la inversión\n",
    "\n",
    "2. Sobre que puedo influir:\n",
    "\n",
    "$$B1$$\n",
    "$$B2$$\n",
    "$$B3$$\n",
    "$$B4$$\n",
    "$$B5$$\n",
    "$$B6$$\n",
    "​\n",
    "3. Función \n",
    "  \n",
    "$C=.0865B1+.095B2+.1B3+.0875B4+.0925B5+.09B6$\n",
    "\n",
    "$$Z=0.0865B1+0.095B2+0.10B3+0.0875B4+0.0925B5+0.09B6$$\n",
    "​\n",
    "4. Restricciones\n",
    "\n",
    "Presupueto\n",
    "\n",
    "$B1+B2+B3+B4+B5+B6\\leq750000$\n",
    "\n",
    "Inversion\n",
    "\n",
    "$B1+B2+B4+B6\\geq375000$\n",
    "\n",
    "Riesgo: \n",
    "\n",
    "$B2+B3+B5\\leq262500$\n",
    "\n",
    "Bono:\n",
    "\n",
    "$B1\\leq187500$\n",
    " \n",
    "$B2\\leq187500$\n",
    " \n",
    "$B3\\leq187500$\n",
    " \n",
    "$B4\\leq187500$\n",
    " \n",
    "$B5\\leq187500$\n",
    " \n",
    "$B6\\leq187500$\n",
    "\n",
    " "
   ]
  },
  {
   "cell_type": "code",
   "execution_count": 16,
   "id": "9480326f-0f04-4c22-9a95-66d970f19ee2",
   "metadata": {},
   "outputs": [
    {
     "data": {
      "text/plain": [
       "        message: Optimization terminated successfully. (HiGHS Status 7: Optimal)\n",
       "        success: True\n",
       "         status: 0\n",
       "            fun: -58500.0\n",
       "              x: [ 1.875e+05  7.500e+04  1.875e+05  1.875e+05  0.000e+00\n",
       "                   0.000e+00]\n",
       "            nit: 1\n",
       "          lower:  residual: [ 1.875e+05  7.500e+04  1.875e+05  1.875e+05\n",
       "                              0.000e+00  0.000e+00]\n",
       "                 marginals: [ 0.000e+00  0.000e+00  0.000e+00  0.000e+00\n",
       "                              2.500e-03  5.000e-03]\n",
       "          upper:  residual: [       inf        inf        inf        inf\n",
       "                                    inf        inf]\n",
       "                 marginals: [ 0.000e+00  0.000e+00  0.000e+00  0.000e+00\n",
       "                              0.000e+00  0.000e+00]\n",
       "          eqlin:  residual: []\n",
       "                 marginals: []\n",
       "        ineqlin:  residual: [ 1.125e+05  7.500e+04  0.000e+00  1.125e+05\n",
       "                              0.000e+00  0.000e+00  1.875e+05  1.875e+05\n",
       "                              0.000e+00]\n",
       "                 marginals: [-0.000e+00 -0.000e+00 -8.650e-02 -0.000e+00\n",
       "                             -5.000e-03 -8.750e-02 -0.000e+00 -0.000e+00\n",
       "                             -9.500e-02]\n",
       " mip_node_count: 0\n",
       " mip_dual_bound: 0.0\n",
       "        mip_gap: 0.0"
      ]
     },
     "execution_count": 16,
     "metadata": {},
     "output_type": "execute_result"
    }
   ],
   "source": [
    "import scipy.optimize as opt\n",
    "import numpy as np\n",
    "c=np.array ([-0.0865, \n",
    "            -0.095, \n",
    "            -0.1, \n",
    "            -0.0875, \n",
    "            -0.0925, \n",
    "            -0.09])\n",
    "Aub=np.array([\n",
    "    [1,1,1,1,1,1],\n",
    "    [-1, -1, 0, -1, 0, -1], \n",
    "    [1, 0, 0, 0, 0, 0], \n",
    "    [0, 1, 0, 0, 0, 0], \n",
    "    [0, 0, 1, 0, 0, 0], \n",
    "    [0, 0, 0, 1, 0, 0], \n",
    "    [0, 0, 0, 0, 1, 0], \n",
    "    [0, 0, 0, 0, 0, 1], \n",
    "    [0, 1, 1, 0, 1, 1]\n",
    "])\n",
    "\n",
    "bub=np.array ([\n",
    "    750000, \n",
    "    -375000, \n",
    "    187500,\n",
    "    187500,\n",
    "    187500,\n",
    "    187500,\n",
    "    187500,\n",
    "    187500,\n",
    "    262500])\n",
    "\n",
    "sol=opt.linprog(c, Aub, bub)\n",
    "sol"
   ]
  },
  {
   "cell_type": "markdown",
   "id": "50a16a54-815b-4c4d-b9f1-1c6f9545fbef",
   "metadata": {},
   "source": [
    "Tasa de retorno : 58500 \n",
    "\n",
    "montos\n",
    "\n",
    "B1=187500\n",
    " \n",
    "B2=75000\n",
    " \n",
    "B3=187500$\n",
    " \n",
    "B4=187500\n",
    " \n",
    "B5=0\n",
    " \n",
    "B6=0"
   ]
  },
  {
   "cell_type": "markdown",
   "id": "a02b2918-2128-4d9a-a1d3-6932c6242c3c",
   "metadata": {},
   "source": [
    "## Ejercicio 6\n",
    "\n",
    "Se quiere producir comida para gatos de la manera más barata, no obstante se debe también asegurar que se cumplan los datos requeridos de analisis \n",
    "nutricional. Por lo que se quiere variar la cantidad de cada ingrediente para cumplir con los estandares nutricionales. Los requisitos que se \n",
    "tienen es que en 100 gramos, se deben tener por lo menos 9 gramos de proteína y  7 gramos de grasa. Así mismo, no se debe tener más de 2.5 gramos \n",
    "de fibra y 0.5 gramos de sal.\n",
    "\n",
    "1. Lo que se busca optimizar en este caso es la cantidad de productos que se debe utilizar en la comida de gato, minimizando el costo total.\n",
    "\n",
    "2. Podemos influir sobre la cantidad de contenido que lleva la lata , como proteinas , grasa , fibra y sal.\n",
    "\n",
    "3. Funcion\n",
    "   \n",
    "   $ .012x1+.009x2+.01x3+.003xx4+.005x5+.002x6=C$\n",
    "x1=pollo\n",
    "\n",
    "x2=carne\n",
    "\n",
    "x3=cordero\n",
    "\n",
    "x4=arroz\n",
    "\n",
    "x5=trigo\n",
    "\n",
    "x6=gel\n",
    "\n",
    "4. Info adi\n",
    "   \n",
    "$proteina \\geq 9 gr$\n",
    "   \n",
    "$grasa \\geq 7 gr $\n",
    "   \n",
    "$fibra \\geq 7 gr $\n",
    "   \n",
    "$sal \\leq 0.5gr$\n",
    "\n",
    "$Peso \\leq 100gr$\n",
    "\n",
    "peso\n",
    "\n",
    "$x1+x2+x3+x4+x5+x6=100$\n",
    "\n",
    "proteina\n",
    "\n",
    "$0.10X1+0.20X2+0.15X3+0X4+0.04X5+0X6\\leq9$\n",
    "\n",
    "Grasa  \n",
    "\n",
    "$0.08X1 + 0.10X2 + 0.11X3 + 0.01X4 + 0.01X5 + 0X6 \\leq 7$\n",
    "\n",
    "Fibra\n",
    "\n",
    "$0.001X1 + 0.005X2 + 0.005X3 + 0.10X4 + 0.15X5 + 0X6 \\geq 2.5$\n",
    "\n",
    "Sal\n",
    "\n",
    "$0.002X1 + 0.002X2 + 0.007X3 + 0.002X4 + 0.008X5 + 0X6\\geq 0.5$\n"
   ]
  },
  {
   "cell_type": "code",
   "execution_count": 27,
   "id": "679ac561-a3b9-441b-8021-680be7f4862b",
   "metadata": {},
   "outputs": [
    {
     "data": {
      "text/plain": [
       "        message: Optimization terminated successfully. (HiGHS Status 7: Optimal)\n",
       "        success: True\n",
       "         status: 0\n",
       "            fun: 0.63\n",
       "              x: [ 0.000e+00  7.000e+01  0.000e+00  0.000e+00  0.000e+00\n",
       "                   0.000e+00]\n",
       "            nit: 1\n",
       "          lower:  residual: [ 0.000e+00  7.000e+01  0.000e+00  0.000e+00\n",
       "                              0.000e+00  0.000e+00]\n",
       "                 marginals: [ 1.128e-01  0.000e+00  1.000e-03  2.100e-03\n",
       "                              4.910e-02  2.000e-03]\n",
       "          upper:  residual: [       inf        inf        inf        inf\n",
       "                                    inf        inf]\n",
       "                 marginals: [ 0.000e+00  0.000e+00  0.000e+00  0.000e+00\n",
       "                              0.000e+00  0.000e+00]\n",
       "          eqlin:  residual: []\n",
       "                 marginals: []\n",
       "        ineqlin:  residual: [ 5.000e+00  0.000e+00  2.150e+00  4.860e+00\n",
       "                              3.000e+01]\n",
       "                 marginals: [-0.000e+00 -9.000e-02 -0.000e+00 -0.000e+00\n",
       "                             -0.000e+00]\n",
       " mip_node_count: 0\n",
       " mip_dual_bound: 0.0\n",
       "        mip_gap: 0.0"
      ]
     },
     "execution_count": 27,
     "metadata": {},
     "output_type": "execute_result"
    }
   ],
   "source": [
    "import scipy.optimize as opt\n",
    "import numpy as np\n",
    "c=np.array ([0.12, \n",
    "            0.009, \n",
    "            0.01, \n",
    "            0.003, \n",
    "            0.05, \n",
    "            0.002])\n",
    "Aub=np.array([\n",
    "    [-0.1, -0.2, -0.15, 0, -0.4, 0],\n",
    "    [-0.08, -0.1, -0.1,-0.01, -0.01, 0], \n",
    "    [0.001, 0.005, 0.005, 0.1, 0.15, 0], \n",
    "    [0.002, 0.002, 0.007, 0.002, 0.008, 0], \n",
    "    [1, 1, 1, 1, 1, 1], \n",
    "])\n",
    "bub=np.array ([\n",
    "    -9, \n",
    "    -7, \n",
    "    2.5,\n",
    "    5,\n",
    "    100\n",
    "])\n",
    "sol=opt.linprog(c, Aub, bub)\n",
    "sol"
   ]
  },
  {
   "cell_type": "markdown",
   "id": "4a7050d5-381a-4cb3-afb7-6c5903afb03c",
   "metadata": {},
   "source": [
    "EL COSTO SERA DE 0.63"
   ]
  },
  {
   "cell_type": "markdown",
   "id": "5537848c-6af1-4b45-99eb-9408ee797349",
   "metadata": {},
   "source": [
    "## Ejercicio 7\n",
    "\n",
    "Una carpintería local fabrica sillas, mesas, libreros y bases de cama. Hay dos empleados en esta carpintería: un empleado experimentado y un aprendiz. El aprendiz tarda aproximadamente 50% más tiempo que el carpintero experimentado en construir cualquier cosa, además de que tiene un desperdicio de alrededor de 20% de material. Los materiales y tiempos necesarios para construir algo se desglozan en la siguiente tabla:"
   ]
  },
  {
   "attachments": {
    "980b7e19-c650-4f05-b4b1-7051d54a5dff.png": {
     "image/png": "[encoded data removed]"
    }
   },
   "cell_type": "markdown",
   "id": "cf4c49b5-984f-4dd9-ac4f-8c24c7c450cd",
   "metadata": {},
   "source": [
    "![image.png](attachment:980b7e19-c650-4f05-b4b1-7051d54a5dff.png)"
   ]
  },
  {
   "cell_type": "markdown",
   "id": "070e97c8-360f-4f91-9c1d-f4de4ccf22e7",
   "metadata": {},
   "source": [
    "1. Maximizar la ganancia\n",
    "   \n",
    "2. Sobre que podemos influir\n",
    "   \n",
    "MA: Mesas fabricadas por aprendices.\n",
    "\n",
    "ME: Mesas fabricadas por experimentados.\n",
    "\n",
    "SA: Sillas fabricadas por aprendices.\n",
    "\n",
    "SE: Sillas fabricadas por experimentados.\n",
    "\n",
    "LA: Libreros fabricados por aprendices.\n",
    "\n",
    "LE: Libreros fabricados por experimentados.\n",
    "\n",
    "BA: Bases fabricadas por aprendices.\n",
    "\n",
    "BE: Bases fabricadas por experimentados.\n",
    "\n",
    "3. Funcion\n",
    "   \n",
    "$C=9000MA+9000ME+3000SA+3000SE+10000LA+10000LE+9000BA+9000B$\n",
    "\n",
    "4. Info ad\n",
    "   \n",
    "Tiempo de trabajo no menor a 40 horas:\n",
    "\n",
    "\n",
    "$4.5MA+1.5SA+6LA+4.5BA\\leq40$\n",
    "\n",
    "$3ME+1SE+4LE+5BE\\leq40$\n",
    "\n",
    "Material no mayor a 100 piezas\n",
    "\n",
    "$7.2MA+6ME+2.4SA+2SE+6LA+5LE+6BA+5BE\\leq100$\n",
    "\n",
    "Nueva orden:\n",
    "\n",
    "  $MN+ME\\geq3$\n",
    "  \n",
    "  $SN+SE\\geq18$\n"
   ]
  },
  {
   "cell_type": "code",
   "execution_count": 53,
   "id": "235b56d8-d85d-452b-9719-cce9ed7c7225",
   "metadata": {},
   "outputs": [
    {
     "data": {
      "text/plain": [
       "        message: Optimization terminated successfully. (HiGHS Status 7: Optimal)\n",
       "        success: True\n",
       "         status: 0\n",
       "            fun: -119999.99999999999\n",
       "              x: [ 0.000e+00  1.000e+00  0.000e+00  1.300e+01]\n",
       "            nit: -1\n",
       "          lower:  residual: [ 0.000e+00  1.000e+00  0.000e+00  1.300e+01]\n",
       "                 marginals: [ 0.000e+00  0.000e+00  0.000e+00  0.000e+00]\n",
       "          upper:  residual: [       inf        inf        inf        inf]\n",
       "                 marginals: [ 0.000e+00  0.000e+00  0.000e+00  0.000e+00]\n",
       "          eqlin:  residual: []\n",
       "                 marginals: []\n",
       "        ineqlin:  residual: [ 7.105e-15  7.105e-15  3.300e+01  3.300e+01]\n",
       "                 marginals: [ 0.000e+00  0.000e+00  0.000e+00  0.000e+00]\n",
       " mip_node_count: 1\n",
       " mip_dual_bound: -119999.99999999999\n",
       "        mip_gap: 0.0"
      ]
     },
     "execution_count": 53,
     "metadata": {},
     "output_type": "execute_result"
    }
   ],
   "source": [
    "import numpy as np\n",
    "import scipy.optimize as opt\n",
    "c = np.array ([ \n",
    "    -9000, \n",
    "     -3000, \n",
    "     -10000, \n",
    "     -9000]) \n",
    "Aub = [\n",
    "    [3, 1, 4, 3],             \n",
    "    [3, 1, 4, 3],\n",
    "    [6, 2, 5, 5],              \n",
    "    [6, 2, 5, 5] \n",
    "]\n",
    "bub = np.array([\n",
    "    40,\n",
    "    40,\n",
    "    100,\n",
    "    100\n",
    "    ])\n",
    "opt.linprog(c,Aub,bub, integrality=1)"
   ]
  },
  {
   "cell_type": "markdown",
   "id": "b759cced-de15-4d6a-aa34-93e3feb20951",
   "metadata": {},
   "source": [
    "\r\n",
    "¿Cuántas horas trabaja cada quié\n",
    "n?\r\n",
    "¿Cuánto material se usa?\r\n",
    "¿Cuál se el ingreso total si se vende todo lo fabricado?\r\n",
    "2. La carpintería recibió una orden por 3 combos de mesa + 6 sillas.\r\n",
    "\r\n",
    "¿Se puede cumplir la orden?\r\n",
    "Si sí, ¿qué es lo que tienen que fabricar en el resto del tiempo y con el resto del material para maximizar su ganancia?\r\n",
    "¿Cuántas horas trabaja cada quién?\r\n",
    "¿Cuánto material se usa?\r\n",
    "¿Cuál es el nuevo ingreso total?"
   ]
  },
  {
   "cell_type": "markdown",
   "id": "c39c8b27-6f07-4969-8730-62c45f4196c8",
   "metadata": {},
   "source": [
    "La ganancia total es de 176,000$, y el aprendiz trabajará 39 horas, mientras que el experto completará 40 horas. Además, se utilizarán las 100 unidades de madera disponibles. En cuanto a la producción óptima, al aprendiz le conviene enfocarse en fabricar sillas y libreros, mientras que el experto debería producir sillas, libreros y burós.\n",
    "\n",
    "Si se cumple con la orden, la ganancia sería de 161,000$. El novato trabajaría 39 horas, mientras que el experto reduciría su jornada a 30 horas, y se utilizarían 99 unidades de material."
   ]
  },
  {
   "cell_type": "code",
   "execution_count": null,
   "id": "338ca803-6efd-42de-97bc-eb3205f00602",
   "metadata": {},
   "outputs": [],
   "source": []
  }
 ],
 "metadata": {
  "kernelspec": {
   "display_name": "Python 3 (ipykernel)",
   "language": "python",
   "name": "python3"
  },
  "language_info": {
   "codemirror_mode": {
    "name": "ipython",
    "version": 3
   },
   "file_extension": ".py",
   "mimetype": "text/x-python",
   "name": "python",
   "nbconvert_exporter": "python",
   "pygments_lexer": "ipython3",
   "version": "3.12.4"
  }
 },
 "nbformat": 4,
 "nbformat_minor": 5
}
