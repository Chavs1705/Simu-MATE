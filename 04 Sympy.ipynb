{
 "cells": [
  {
   "cell_type": "markdown",
   "id": "14b3b067-15f3-49e7-9653-24d3ecb2216e",
   "metadata": {},
   "source": [
    "Snatiago Chavarria Minakata "
   ]
  },
  {
   "cell_type": "markdown",
   "id": "762a74b8-12c7-4391-a5fd-b1d4813bd9df",
   "metadata": {},
   "source": [
    "1. Utiliza sympy y encuentra los valores de las incógnitas que hagan que los siguientes sistemas de ecuaciones sean verdaderos:"
   ]
  },
  {
   "attachments": {
    "2cb31ca5-2a6b-4372-b89d-eca878a7c3e2.png": {
     "image/png": "[encoded data removed]"
    }
   },
   "cell_type": "markdown",
   "id": "5fe932fa-73d2-4424-9f9c-873ffe883d7f",
   "metadata": {},
   "source": [
    "![image.png](attachment:2cb31ca5-2a6b-4372-b89d-eca878a7c3e2.png)"
   ]
  },
  {
   "cell_type": "code",
   "execution_count": 116,
   "id": "c91700b2-74c9-4875-aa43-411528a12361",
   "metadata": {},
   "outputs": [
    {
     "data": {
      "text/plain": [
       "(6, 4)"
      ]
     },
     "execution_count": 116,
     "metadata": {},
     "output_type": "execute_result"
    }
   ],
   "source": [
    "import sympy as sp\n",
    "sp.var(\"x\")\n",
    "sp.var(\"y\")\n",
    "eq1= x + y -10\n",
    "eq2= x -y-2\n",
    "x_eq1=sp.solve(eq1,x)[0]\n",
    "y_eq2=eq2.subs(x,x_eq1)\n",
    "y_sol=sp.solve(y_eq2,y)[0]\n",
    "x_sol=x_eq1.subs(y,y_sol)\n",
    "x_sol,y_sol"
   ]
  },
  {
   "cell_type": "markdown",
   "id": "085dd89b-e1ed-48a4-914c-5b15b89896b4",
   "metadata": {},
   "source": [
    "$$ x: 6, y: 4 $$"
   ]
  },
  {
   "attachments": {
    "e0b01953-ee68-49d4-8022-0aace3d70271.png": {
     "image/png": "[encoded data removed]"
    }
   },
   "cell_type": "markdown",
   "id": "9054dbb6-afe1-4256-b2c7-985eb2616b9c",
   "metadata": {},
   "source": [
    "![image.png](attachment:e0b01953-ee68-49d4-8022-0aace3d70271.png)"
   ]
  },
  {
   "cell_type": "code",
   "execution_count": 120,
   "id": "592d6cb2-dd07-41be-b381-0eab836d69de",
   "metadata": {},
   "outputs": [
    {
     "data": {
      "text/plain": [
       "(1.00000000000000, 1.00000000000000)"
      ]
     },
     "execution_count": 120,
     "metadata": {},
     "output_type": "execute_result"
    }
   ],
   "source": [
    "import sympy as sp\n",
    "sp.var(\"x\")\n",
    "sp.var(\"y\")\n",
    "eq1= (3*x-2*y)/3+4*y-13/3\n",
    "eq2= 2*(-2*y+x)/3-3*x/2+13/6\n",
    "x_eq1=sp.solve(eq1,x)[0]\n",
    "y_eq2=eq2.subs(x,x_eq1)\n",
    "y_sol=sp.solve(y_eq2,y)[0]\n",
    "x_sol=x_eq1.subs(y,y_sol)\n",
    "x_sol,y_sol"
   ]
  },
  {
   "attachments": {
    "3ad47296-060f-41e0-8d23-39f125acbb89.png": {
     "image/png": "[encoded data removed]"
    }
   },
   "cell_type": "markdown",
   "id": "b3362959-8b27-4feb-bb8e-ac9e633b562c",
   "metadata": {},
   "source": [
    "![image.png](attachment:3ad47296-060f-41e0-8d23-39f125acbb89.png)"
   ]
  },
  {
   "cell_type": "code",
   "execution_count": 122,
   "id": "d931e58a-f869-4017-8809-f2da82869a86",
   "metadata": {},
   "outputs": [
    {
     "data": {
      "text/plain": [
       "(-sqrt(12 - 2*sqrt(11)), -sqrt(11) - 2)"
      ]
     },
     "execution_count": 122,
     "metadata": {},
     "output_type": "execute_result"
    }
   ],
   "source": [
    "import sympy as sp\n",
    "sp.var(\"x\")\n",
    "sp.var(\"y\")\n",
    "eq1= x**2-2*y-16\n",
    "eq2= x-y-3\n",
    "x_eq1=sp.solve(eq1,x)[0]\n",
    "y_eq2=eq2.subs(x,x_eq1)\n",
    "y_sol=sp.solve(y_eq2,y)[0]\n",
    "x_sol=x_eq1.subs(y,y_sol)\n",
    "x_sol,y_sol"
   ]
  },
  {
   "cell_type": "markdown",
   "id": "ef8b0b19-8f55-446f-a4d8-fc7255acdfae",
   "metadata": {},
   "source": [
    "$$ [(1 - \\sqrt(11), -\\sqrt(11) - 2), (1 + \\sqrt(11), -2 + \\sqrt(11))] $$"
   ]
  },
  {
   "attachments": {
    "f3d28960-df69-4ecd-a24f-f39fd9d757ca.png": {
     "image/png": "[encoded data removed]"
    }
   },
   "cell_type": "markdown",
   "id": "b1d6011d-6e77-47d0-8a91-dbae8109f521",
   "metadata": {},
   "source": [
    "![image.png](attachment:f3d28960-df69-4ecd-a24f-f39fd9d757ca.png)"
   ]
  },
  {
   "cell_type": "code",
   "execution_count": 65,
   "id": "8554a78e-2773-4f15-8ed0-274424789eaa",
   "metadata": {},
   "outputs": [
    {
     "data": {
      "text/plain": [
       "{x: 4, y: 2, z: -4}"
      ]
     },
     "execution_count": 65,
     "metadata": {},
     "output_type": "execute_result"
    }
   ],
   "source": [
    "import sympy as sp\n",
    "x, y, z = sp.symbols('x y z')\n",
    "ecuq1=sp.Eq(x+y-z,10)\n",
    "ecuq2=sp.Eq(x-y,2)\n",
    "ecuq3=sp.Eq(y+z,-2)\n",
    "solve=sp.solve((ecuq1,ecuq2,ecuq3),(x,y,z))\n",
    "sp.var(\"x\")\n",
    "sp.var(\"y\")\n",
    "sp.var(\"z\")\n",
    "eq1= x**2-2*y-16\n",
    "eq2= x-y-3\n",
    "eq3=\n",
    "x_eq1=sp.solve(eq1,x)[0]\n",
    "y_eq2=eq2.subs(x,x_eq1)\n",
    "y_sol=sp.solve(y_eq2,y)[0]\n",
    "x_sol=x_eq1.subs(y,y_sol)\n",
    "_sol=sp.solve(y_eq2,y)[0]\n",
    "x_sol=x_eq1.subs(y,y_sol)\n",
    "x_sol,y_sol"
   ]
  },
  {
   "cell_type": "markdown",
   "id": "fb509fe2-45e6-4b28-93f3-5dd0eaa46282",
   "metadata": {},
   "source": [
    "2. Encuentra los puntos críticos usando cálculo diferencial, decide si son máximos o mínimos usando el criterio de la segunda derivada, y grafica para decidir se son óptimos locales o globales:\n",
    "\n"
   ]
  },
  {
   "attachments": {
    "81d2c9a1-c9bb-4801-8632-002769f45b21.png": {
     "image/png": "[encoded data removed]"
    }
   },
   "cell_type": "markdown",
   "id": "c951bbda-8c4a-4c07-8707-7b2ad8e70539",
   "metadata": {},
   "source": [
    "![image.png](attachment:81d2c9a1-c9bb-4801-8632-002769f45b21.png)"
   ]
  },
  {
   "cell_type": "code",
   "execution_count": 101,
   "id": "b51bafed-4207-48b7-9e2d-8d4d5c38214d",
   "metadata": {},
   "outputs": [
    {
     "ename": "TypeError",
     "evalue": "linspace() missing 2 required positional arguments: 'start' and 'stop'",
     "output_type": "error",
     "traceback": [
      "\u001b[1;31m---------------------------------------------------------------------------\u001b[0m",
      "\u001b[1;31mTypeError\u001b[0m                                 Traceback (most recent call last)",
      "Cell \u001b[1;32mIn[101], line 8\u001b[0m\n\u001b[0;32m      6\u001b[0m derivada\u001b[38;5;241m=\u001b[39msp\u001b[38;5;241m.\u001b[39mdiff(f, x)\n\u001b[0;32m      7\u001b[0m puntocritico\u001b[38;5;241m=\u001b[39msp\u001b[38;5;241m.\u001b[39msolve(derivada, x)\n\u001b[1;32m----> 8\u001b[0m x\u001b[38;5;241m=\u001b[39mnp\u001b[38;5;241m.\u001b[39mlinspace()\n\u001b[0;32m      9\u001b[0m y\u001b[38;5;241m=\u001b[39m\u001b[38;5;241m1235\u001b[39m\u001b[38;5;241m+\u001b[39m\u001b[38;5;241m113\u001b[39m\u001b[38;5;241m*\u001b[39mx\u001b[38;5;241m-\u001b[39m\u001b[38;5;241m6\u001b[39m\u001b[38;5;241m*\u001b[39mx\u001b[38;5;241m*\u001b[39m\u001b[38;5;241m*\u001b[39m\u001b[38;5;241m2\u001b[39m\n\u001b[0;32m     10\u001b[0m plt\u001b[38;5;241m.\u001b[39mplot(x,y)\n",
      "\u001b[1;31mTypeError\u001b[0m: linspace() missing 2 required positional arguments: 'start' and 'stop'"
     ]
    }
   ],
   "source": [
    "import matplotlib.pyplot as plt\n",
    "import sympy as sp\n",
    "import numpy as np\n",
    "x=sp.Symbol('x')\n",
    "f=1235+113*x-6*x**2\n",
    "derivada=sp.diff(f, x)\n",
    "puntocritico=sp.solve(derivada, x)\n",
    "x=np.linspace()\n",
    "y=1235+113*x-6*x**2\n",
    "plt.plot(x,y)"
   ]
  },
  {
   "cell_type": "code",
   "execution_count": 83,
   "id": "26d40939-1372-4c96-a33c-d481101de510",
   "metadata": {},
   "outputs": [
    {
     "data": {
      "text/plain": [
       "[113/12]"
      ]
     },
     "execution_count": 83,
     "metadata": {},
     "output_type": "execute_result"
    }
   ],
   "source": [
    "puntocritico"
   ]
  },
  {
   "attachments": {
    "be3a1f3f-5aca-4d30-9ee7-4b4bf1008313.png": {
     "image/png": "[encoded data removed]"
    }
   },
   "cell_type": "markdown",
   "id": "b90ac3bc-3d90-4d7c-8d66-70fc04d33e7b",
   "metadata": {},
   "source": [
    "![image.png](attachment:be3a1f3f-5aca-4d30-9ee7-4b4bf1008313.png)"
   ]
  },
  {
   "cell_type": "code",
   "execution_count": 78,
   "id": "4e52398e-5324-496b-aa61-3dcd78eca9b7",
   "metadata": {},
   "outputs": [
    {
     "data": {
      "text/plain": [
       "[-sqrt(pi), sqrt(pi)]"
      ]
     },
     "execution_count": 78,
     "metadata": {},
     "output_type": "execute_result"
    }
   ],
   "source": [
    "import matplotlib.pyplot as plt\n",
    "import sympy as sp\n",
    "import numpy as np\n",
    "x=sp.Symbol('x')\n",
    "f=-3+x+sp.pi/x\n",
    "derivada=sp.diff(f, x)\n",
    "puntocritico=sp.solve(derivada, x)\n",
    "dosderivada = sp.diff(derivada, x)\n",
    "evaluar=\n"
   ]
  },
  {
   "cell_type": "code",
   "execution_count": null,
   "id": "e5c7e2ad-8395-4446-9b88-1173c3672b71",
   "metadata": {},
   "outputs": [],
   "source": [
    "puntocritico"
   ]
  },
  {
   "cell_type": "markdown",
   "id": "20236f43-4e94-433d-a736-37dc35d459ea",
   "metadata": {},
   "source": [
    "$$ [-\\sqrt(pi), \\sqrt(pi)] $$"
   ]
  },
  {
   "attachments": {
    "a73872a0-2233-486f-9388-4f23963cc1ac.png": {
     "image/png": "[encoded data removed]"
    }
   },
   "cell_type": "markdown",
   "id": "33d632bb-8dc5-47d5-a5bf-f1bc42322660",
   "metadata": {},
   "source": [
    "![image.png](attachment:a73872a0-2233-486f-9388-4f23963cc1ac.png)"
   ]
  },
  {
   "cell_type": "code",
   "execution_count": null,
   "id": "5ec45ccc-79c8-4e27-8ba7-3c7cb3922827",
   "metadata": {},
   "outputs": [],
   "source": [
    "import matplotlib.pyplot as plt\n",
    "import sympy as sp\n",
    "import numpy as np\n",
    "x=sp.Symbol('x')\n",
    "f=2-3x+\\sqrt(8-2*x**2)\n",
    "derivada=sp.diff(f, x)\n",
    "puntocritico=sp.solve(derivada, x)\n",
    "puntocritico"
   ]
  },
  {
   "attachments": {
    "4a71de92-138e-4cc0-9964-3ff4d82fe670.png": {
     "image/png": "[encoded data removed]"
    }
   },
   "cell_type": "markdown",
   "id": "2dbc6590-0982-4f73-97bb-f80aff4bb2a3",
   "metadata": {},
   "source": [
    "![image.png](attachment:4a71de92-138e-4cc0-9964-3ff4d82fe670.png)"
   ]
  },
  {
   "cell_type": "code",
   "execution_count": null,
   "id": "fb5d1e9a-bf36-47c0-a399-8aaccd0f1542",
   "metadata": {},
   "outputs": [],
   "source": []
  }
 ],
 "metadata": {
  "kernelspec": {
   "display_name": "Python 3 (ipykernel)",
   "language": "python",
   "name": "python3"
  },
  "language_info": {
   "codemirror_mode": {
    "name": "ipython",
    "version": 3
   },
   "file_extension": ".py",
   "mimetype": "text/x-python",
   "name": "python",
   "nbconvert_exporter": "python",
   "pygments_lexer": "ipython3",
   "version": "3.12.4"
  }
 },
 "nbformat": 4,
 "nbformat_minor": 5
}
