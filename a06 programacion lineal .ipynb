{
 "cells": [
  {
   "cell_type": "markdown",
   "id": "80212b89-c567-4d24-849a-5dfebc97694d",
   "metadata": {},
   "source": [
    "SANTIAGO CHAVARRIA MINAKATA-9 DE SEP"
   ]
  },
  {
   "cell_type": "markdown",
   "id": "5537848c-6af1-4b45-99eb-9408ee797349",
   "metadata": {},
   "source": [
    "Ejercicio 1.\n",
    "\n",
    "Una carpintería local fabrica sillas, mesas, libreros y bases de cama. Hay dos empleados en esta carpintería: un empleado experimentado y un aprendiz. El aprendiz tarda aproximadamente 50% más tiempo que el carpintero experimentado en construir cualquier cosa, además de que tiene un desperdicio de alrededor de 20% de material. Los materiales y tiempos necesarios para construir algo se desglozan en la siguiente tabla:"
   ]
  },
  {
   "attachments": {
    "980b7e19-c650-4f05-b4b1-7051d54a5dff.png": {
     "image/png": "[encoded data removed]"
    }
   },
   "cell_type": "markdown",
   "id": "cf4c49b5-984f-4dd9-ac4f-8c24c7c450cd",
   "metadata": {},
   "source": [
    "![image.png](attachment:980b7e19-c650-4f05-b4b1-7051d54a5dff.png)"
   ]
  },
  {
   "cell_type": "markdown",
   "id": "070e97c8-360f-4f91-9c1d-f4de4ccf22e7",
   "metadata": {},
   "source": [
    "1-maximizar la ganancia\n",
    "\n",
    "2-Podemos influir sobre la cantidad de muebles construidos.\n",
    "$$m=mesas$$\n",
    "$$s=sillas$$\n",
    "$$l=libreros$$\n",
    "$$bdc=basesdecama$$ \n",
    "\n",
    "3-Funcion\n",
    "$$f(m,s,l,bdc)=9000m + 3000s + 10000l + 9000bdc$$\n",
    "4-info opcional\n",
    "El total de horas de trabajo no puede exceder 40 horas para el carpintero experimentado y 40 horas para el aprendiz, teniendo en cuenta que el aprendiz tarda un 50% más en fabricar cada producto.\n",
    "\n",
    "El total de material usado no puede exceder las 100 unidades de madera. \n",
    "\n",
    "El aprendiz desperdicia un 20% más de material.\n",
    "\n",
    "Las mesas se venden en 9000, las sillas en $3000, los libreros en 10000, y las bases de cama en ]9000. Suponiendo una jornada de 40 horas a la semana y que tienen 100 unidades de madera, ¿qué les conviene construir durante una semana para maximizar su ganancia?\n",
    "\n",
    "\n",
    "Restricciones\n",
    "Carpintero experimentado de tiempo de produccion es \n",
    "$$ 3m + 1s + 4l+ 3bdc \\leq 40$$ \n",
    "Para el aprendiz 50 mas tardado\n",
    "$$ 1.5(3m + 1s + 4l + 3bdc)\\leq 40 $$\n",
    "Material para carpintero experimentado\n",
    "\n",
    "$$ 6m + 2s + 5l + 5bdc \\leq 100 $$\n",
    "\n",
    "Aprendiz con 20 porciento mas de material\n",
    "$$ 1.2(6m + 2s + 5l + 5bdc) \\leq 100 $$\n"
   ]
  },
  {
   "cell_type": "code",
   "execution_count": 53,
   "id": "235b56d8-d85d-452b-9719-cce9ed7c7225",
   "metadata": {},
   "outputs": [
    {
     "data": {
      "text/plain": [
       "        message: Optimization terminated successfully. (HiGHS Status 7: Optimal)\n",
       "        success: True\n",
       "         status: 0\n",
       "            fun: -119999.99999999999\n",
       "              x: [ 0.000e+00  1.000e+00  0.000e+00  1.300e+01]\n",
       "            nit: -1\n",
       "          lower:  residual: [ 0.000e+00  1.000e+00  0.000e+00  1.300e+01]\n",
       "                 marginals: [ 0.000e+00  0.000e+00  0.000e+00  0.000e+00]\n",
       "          upper:  residual: [       inf        inf        inf        inf]\n",
       "                 marginals: [ 0.000e+00  0.000e+00  0.000e+00  0.000e+00]\n",
       "          eqlin:  residual: []\n",
       "                 marginals: []\n",
       "        ineqlin:  residual: [ 7.105e-15  7.105e-15  3.300e+01  3.300e+01]\n",
       "                 marginals: [ 0.000e+00  0.000e+00  0.000e+00  0.000e+00]\n",
       " mip_node_count: 1\n",
       " mip_dual_bound: -119999.99999999999\n",
       "        mip_gap: 0.0"
      ]
     },
     "execution_count": 53,
     "metadata": {},
     "output_type": "execute_result"
    }
   ],
   "source": [
    "import numpy as np\n",
    "import scipy.optimize as opt\n",
    "c = np.array ([ \n",
    "    -9000, \n",
    "     -3000, \n",
    "     -10000, \n",
    "     -9000]) \n",
    "Aub = [\n",
    "    [3, 1, 4, 3],             \n",
    "    [3, 1, 4, 3],\n",
    "    [6, 2, 5, 5],              \n",
    "    [6, 2, 5, 5] \n",
    "]\n",
    "bub = np.array([\n",
    "    40,\n",
    "    40,\n",
    "    100,\n",
    "    100\n",
    "    ])\n",
    "opt.linprog(c,Aub,bub, integrality=1)"
   ]
  },
  {
   "cell_type": "markdown",
   "id": "b759cced-de15-4d6a-aa34-93e3feb20951",
   "metadata": {},
   "source": [
    "\r\n",
    "¿Cuántas horas trabaja cada quié\n",
    "n?\r\n",
    "¿Cuánto material se usa?\r\n",
    "¿Cuál se el ingreso total si se vende todo lo fabricado?\r\n",
    "2. La carpintería recibió una orden por 3 combos de mesa + 6 sillas.\r\n",
    "\r\n",
    "¿Se puede cumplir la orden?\r\n",
    "Si sí, ¿qué es lo que tienen que fabricar en el resto del tiempo y con el resto del material para maximizar su ganancia?\r\n",
    "¿Cuántas horas trabaja cada quién?\r\n",
    "¿Cuánto material se usa?\r\n",
    "¿Cuál es el nuevo ingreso total?"
   ]
  },
  {
   "cell_type": "code",
   "execution_count": null,
   "id": "1ad6caf3-6c5b-4b63-8888-5503e3317831",
   "metadata": {},
   "outputs": [],
   "source": []
  }
 ],
 "metadata": {
  "kernelspec": {
   "display_name": "Python 3 (ipykernel)",
   "language": "python",
   "name": "python3"
  },
  "language_info": {
   "codemirror_mode": {
    "name": "ipython",
    "version": 3
   },
   "file_extension": ".py",
   "mimetype": "text/x-python",
   "name": "python",
   "nbconvert_exporter": "python",
   "pygments_lexer": "ipython3",
   "version": "3.12.4"
  }
 },
 "nbformat": 4,
 "nbformat_minor": 5
}
