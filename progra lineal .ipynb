{
 "cells": [
  {
   "cell_type": "markdown",
   "id": "c1858732-ef9f-404b-8328-c240463a17a7",
   "metadata": {},
   "source": [
    "SANTIAGO CHAVARRIA MINAKATA - 5/sep/2024"
   ]
  },
  {
   "cell_type": "markdown",
   "id": "c589b933-32f5-429d-b45b-2b81c586484b",
   "metadata": {},
   "source": [
    "A05 - Programación lineal"
   ]
  },
  {
   "cell_type": "markdown",
   "id": "2477ef6c-3c94-4a11-b60d-041fb0bb726c",
   "metadata": {},
   "source": [
    "Ejercicio 1\n",
    "\n",
    "Se quiere producir comida para gatos de la manera más barata, no obstante se debe también asegurar que se cumplan los datos requeridos de analisis nutricional. Por lo que se quiere variar la cantidad de cada ingrediente para cumplir con los estandares nutricionales. Los requisitos que se tienen es que en 100 gramos, se deben tener por lo menos 9 gramos de proteína y  7 gramos de grasa. Así mismo, no se debe tener más de 2.5 gramos de fibra y 0.5 gramos de sal."
   ]
  },
  {
   "cell_type": "markdown",
   "id": "3c6ef601-a25c-46d3-a2ad-65c126333769",
   "metadata": {},
   "source": [
    "1-Lo que se busca optimizar en este caso es la cantidad de productos que se debe utilizar en la comida de gato, minimizando el costo total.\n",
    "\n",
    "2-Podemos influir sobre la cantidad de contenido que lleva la lata , como proteinas , grasa , fibra y sal.\n",
    "\n",
    "3-Las variables de control son :\n",
    "$$ (x1,x2,x3,x4,x5,x6) = 0.012x1 + 0.009x2 + 0.010x3 +0.003x4 + 0.005x5 +0.002x6 $$\n",
    "4-info ad\n",
    "\n",
    "POLLO\n",
    "\n",
    "-PROTEINA 10.0%\n",
    "\n",
    "-GRASA 08.0%\n",
    "\n",
    "-FIBRA 00.1%\n",
    "\n",
    "-SAL 00.2%\n",
    "\n",
    "CARNE \n",
    "\n",
    "-PROTEINA 20.0%\n",
    "\n",
    "-GRASA 10.0%\n",
    "\n",
    "-FIBRA 00.5%\n",
    "\n",
    "-SAL 00.5%\n",
    "\n",
    "CORDERO\n",
    "\n",
    "-PROTEINA 15.0%\n",
    "\n",
    "-GRASA 11.0%\n",
    "\n",
    "-FIBRA 00.5%\n",
    "\n",
    "-SAL 00.7%\n",
    "\n",
    "ARROZ\n",
    "\n",
    "-PROTEINA 0.0%\n",
    "\n",
    "-GRASA 01.0%\n",
    "\n",
    "-FIBRA 10.%\n",
    "\n",
    "-SAL 00.2%\n",
    "\n",
    "TRIGO\n",
    "\n",
    "-PROTEINA 04.0%\n",
    "\n",
    "-GRASA 01.0%\n",
    "\n",
    "-FIBRA 15.0%\n",
    "\n",
    "-SAL 00.8%\n",
    "\n",
    "GEL\n",
    "\n",
    "-PROTEINA 00.0%\n",
    "\n",
    "-GRASA 00.0%\n",
    "\n",
    "-FIBRA 00.0%\n",
    "\n",
    "-SAL 00.0%\n",
    "\n",
    "$$ peso = 100g $$\n",
    "$$ porteina>=9g $$\n",
    "$$ grasa>=7g $$\n",
    "$$ fibra<=2.5g $$\n",
    "$$ sal<=0.5g $$\n",
    "Peso\n",
    " $$ x1,x2,x3,x4,x5,x6 = 100g $$\n",
    "Proteina\n",
    " $$ .10x1 + .20x2 + .15x3 + 0x4 + .04x5 + 0x6 >= 9g$$\n",
    "Grasa\n",
    "$$ .8x1 + .10x2 + .11x3 + .01x4 + .01x5 + 0x6 >= 7g$$\n",
    "Fibra\n",
    "$$ 0.001x1 + 0.005x2 + 0.005x3 + .10x4 + .15x5 + 0x6 <= 2.5g $$\n",
    "Sal\n",
    "$$ 0.002x1 + 0.005x2 + 0.007x3 +0.002x4 + 0.008x5 + 0x6 <= 0.5g $$\n",
    ".005\r\n",
    "Gel\t$0.002"
   ]
  },
  {
   "cell_type": "markdown",
   "id": "91c88ca6-dd33-4647-a6e5-aeb963e68a83",
   "metadata": {},
   "source": [
    "Ingrediente\tProteína\tGrasa\tFibra\tSal\n",
    "Pollo\t    10.0%\t   08.0%\t00.1%\t00.2%\n",
    "Carne\t    20.0%\t   10.0%\t00.5%\t00.5%\n",
    "Cordero\t    15.0%\t   11.0%\t00.5%\t00.7%\n",
    "Arroz\t    00.0%\t   01.0%\t10.0%\t00.2%\n",
    "Trigo\t    04.0%\t   01.0%\t15.0%\t00.8%\n",
    "Gel\t        00.0%\t   00.0%\t00.0%\t00.0%\n",
    "Los costos de cada producto son:\n",
    "\n",
    "Ingrediente\tCosto por gramo\n",
    "Pollo\t$0.012\n",
    "Carne\t$0.009\n",
    "Cordero\t$0.010\n",
    "Arroz\t$0.003\n",
    "Trigo\t$0.005\n",
    "Gel\t$0.002"
   ]
  },
  {
   "cell_type": "code",
   "execution_count": null,
   "id": "4f501e29-25e6-4c39-ac06-eea6c94989a4",
   "metadata": {},
   "outputs": [],
   "source": [
    "import matplotlib.pyplot as plt\n",
    "import numpy as np\n",
    "def restriccion_peso(xa): \n",
    "    return \n",
    "\n",
    "def restriccion_prot(xa): \n",
    "    return \n",
    "\n",
    "def restriccion_gra(xa): \n",
    "    return \n",
    "\n",
    "def restriccion_fib(xa): \n",
    "    return \n",
    "    \n",
    "def restriccion_sal(xa): \n",
    "    return \n",
    "\n",
    "\n",
    "xa=np.linspace(0, 350, 2)\n",
    "proteina=restriccion_prot(xa)\n",
    "grasa=restriccion_gra(xa) \n",
    "azucar=restriccion_azu(xa)\n",
    "\n",
    "plt.figure()\n",
    "plt.plot(xa, proteina, label=\"Restricción Proteina\")\n",
    "plt.plot(xa, grasa, label=\"Restriccón grasas\") \n",
    "plt.plot(xa, azucar, label=\"Restricción azúcar\") \n",
    "plt.grid()\n",
    "plt.legend(loc=\"best\")\n",
    "plt.ylim([0, 500])\n"
   ]
  },
  {
   "cell_type": "markdown",
   "id": "cea7ec21-5d0b-4f3c-a47b-2b5b611aeb6b",
   "metadata": {},
   "source": [
    "Ejercicio 2\r\n",
    "\r\n",
    "La Comisión Federal de Electricidad (CFE) dispone de cuatro plantas de generación para satisfacer la demanda diaria eléctrica en cuatro ciudades, Guadalajara, León y Morelia. Las plantas 1, 2 y 3 pueden satisfacer 75, 50 y 60 millones de kW al día respectivamente. Las necesidades de las ciudades de Guadalajara, León y Morelia son de 60, 45 y 60 millones de Kw al día respectivamente.\r\n",
    "\r\n",
    "Los costos asociados al envío de suministro energético por cada millón de kW entre cada planta y cada ciudad son los registrados en la siguiente tabla."
   ]
  },
  {
   "cell_type": "markdown",
   "id": "7df6a059-cde4-4ba9-92dc-0c0762b6b9e5",
   "metadata": {},
   "source": [
    "-\t     Guadalajara  León\tMorelia\n",
    "Planta 1\t5\t       2\t  7\n",
    "Planta 2\t3\t       4\t  5\n",
    "Planta 3\t5\t       2\t  3"
   ]
  },
  {
   "cell_type": "markdown",
   "id": "94202cc7-6f6f-4c2d-9107-e64cacd620e9",
   "metadata": {},
   "source": [
    "1- minimizar el costo de distribuir la energía desde las plantas hacia las ciudades"
   ]
  }
 ],
 "metadata": {
  "kernelspec": {
   "display_name": "Python 3 (ipykernel)",
   "language": "python",
   "name": "python3"
  },
  "language_info": {
   "codemirror_mode": {
    "name": "ipython",
    "version": 3
   },
   "file_extension": ".py",
   "mimetype": "text/x-python",
   "name": "python",
   "nbconvert_exporter": "python",
   "pygments_lexer": "ipython3",
   "version": "3.12.4"
  }
 },
 "nbformat": 4,
 "nbformat_minor": 5
}
