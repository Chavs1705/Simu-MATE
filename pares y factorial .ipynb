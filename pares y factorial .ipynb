{
 "cells": [
  {
   "cell_type": "code",
   "execution_count": 33,
   "id": "1399b0a0-46b1-4069-b0ef-b9bd0f07b87e",
   "metadata": {},
   "outputs": [
    {
     "name": "stdin",
     "output_type": "stream",
     "text": [
      "Dame el numero:  12\n"
     ]
    },
    {
     "name": "stdout",
     "output_type": "stream",
     "text": [
      "El factorial de 12 es 479001600\n"
     ]
    }
   ],
   "source": [
    "f = int(input(\"Dame el numero: \"))\n",
    "i = 1\n",
    "factorial = 1\n",
    "while i <= f :\n",
    "    factorial *= i \n",
    "    i+=1\n",
    "print(\"El factorial de\",f,\"es\" ,factorial)\n"
   ]
  },
  {
   "cell_type": "code",
   "execution_count": 25,
   "id": "e6363022-8223-4a5c-9a3e-c8677be640df",
   "metadata": {},
   "outputs": [
    {
     "name": "stdin",
     "output_type": "stream",
     "text": [
      "Dame el numero:  200\n"
     ]
    },
    {
     "name": "stdout",
     "output_type": "stream",
     "text": [
      "200 no es primo\n"
     ]
    }
   ],
   "source": [
    "p = int(input(\"Dame el numero: \"))\n",
    "primo = True\n",
    "i = 2\n",
    "\n",
    "while i < p:\n",
    "    if p % i == 0:\n",
    "        primo = False\n",
    "        break\n",
    "    i += 1\n",
    "\n",
    "if primo and p > 1:\n",
    "    print(p, \"es primo\")\n",
    "else:\n",
    "    print(p, \"no es primo\")\n",
    "\n",
    "    "
   ]
  }
 ],
 "metadata": {
  "kernelspec": {
   "display_name": "Python 3 (ipykernel)",
   "language": "python",
   "name": "python3"
  },
  "language_info": {
   "codemirror_mode": {
    "name": "ipython",
    "version": 3
   },
   "file_extension": ".py",
   "mimetype": "text/x-python",
   "name": "python",
   "nbconvert_exporter": "python",
   "pygments_lexer": "ipython3",
   "version": "3.12.4"
  }
 },
 "nbformat": 4,
 "nbformat_minor": 5
}
