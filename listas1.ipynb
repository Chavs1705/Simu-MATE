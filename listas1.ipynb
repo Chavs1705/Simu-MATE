{
 "cells": [
  {
   "cell_type": "code",
   "execution_count": 23,
   "id": "4bc0ea3d-882c-4097-af17-73243ad6c2be",
   "metadata": {},
   "outputs": [],
   "source": [
    "def factorial(numero):\n",
    "    i = 1\n",
    "    factorial = 1\n",
    "    while i <= numero:\n",
    "        factorial *= i\n",
    "        i += 1\n",
    "    return factorial"
   ]
  },
  {
   "cell_type": "code",
   "execution_count": 21,
   "id": "9d9d922c-1222-4313-89f2-0655817951bf",
   "metadata": {},
   "outputs": [
    {
     "data": {
      "text/plain": [
       "24"
      ]
     },
     "execution_count": 21,
     "metadata": {},
     "output_type": "execute_result"
    }
   ],
   "source": [
    "factorial(4)"
   ]
  },
  {
   "cell_type": "code",
   "execution_count": 15,
   "id": "6ed544a6-767f-4882-b218-10be5816a848",
   "metadata": {},
   "outputs": [
    {
     "data": {
      "text/plain": [
       "5040"
      ]
     },
     "execution_count": 15,
     "metadata": {},
     "output_type": "execute_result"
    }
   ],
   "source": [
    "factorial(7)"
   ]
  },
  {
   "cell_type": "code",
   "execution_count": 7,
   "id": "2d0c1891-17e6-4f94-9bec-e5f92268b2f6",
   "metadata": {},
   "outputs": [
    {
     "data": {
      "text/plain": [
       "120"
      ]
     },
     "execution_count": 7,
     "metadata": {},
     "output_type": "execute_result"
    }
   ],
   "source": [
    "factorial(5)"
   ]
  },
  {
   "cell_type": "code",
   "execution_count": 9,
   "id": "196f8819-6525-4315-8866-3af08ffa2134",
   "metadata": {},
   "outputs": [
    {
     "data": {
      "text/plain": [
       "40320"
      ]
     },
     "execution_count": 9,
     "metadata": {},
     "output_type": "execute_result"
    }
   ],
   "source": [
    "factorial(8)"
   ]
  },
  {
   "cell_type": "code",
   "execution_count": 17,
   "id": "d28a49cf-bac6-4490-a714-49ac18069e92",
   "metadata": {},
   "outputs": [
    {
     "data": {
      "text/plain": [
       "362880"
      ]
     },
     "execution_count": 17,
     "metadata": {},
     "output_type": "execute_result"
    }
   ],
   "source": [
    "factorial(9)"
   ]
  },
  {
   "cell_type": "code",
   "execution_count": 19,
   "id": "db1186a5-3290-4666-9e93-da052b443730",
   "metadata": {},
   "outputs": [
    {
     "data": {
      "text/plain": [
       "6"
      ]
     },
     "execution_count": 19,
     "metadata": {},
     "output_type": "execute_result"
    }
   ],
   "source": [
    "factorial(3)"
   ]
  },
  {
   "cell_type": "code",
   "execution_count": 51,
   "id": "b84ebe5a-dc08-40e3-b549-cbdcb7337968",
   "metadata": {},
   "outputs": [],
   "source": [
    "def esprimo(p):\n",
    "    primo = True\n",
    "    i = 2\n",
    "\n",
    "    while i < p:\n",
    "        if p % i == 0:\n",
    "            primo = False\n",
    "            break\n",
    "        i += 1\n",
    "\n",
    "    if primo and p > 1:\n",
    "        return True\n",
    "    else:\n",
    "        return False\n"
   ]
  },
  {
   "cell_type": "code",
   "execution_count": 33,
   "id": "35b952b6-ab02-4ee6-bd69-ae1c306f6846",
   "metadata": {},
   "outputs": [
    {
     "name": "stdout",
     "output_type": "stream",
     "text": [
      "False\n"
     ]
    }
   ],
   "source": [
    "resultado = esprimo(8)\n",
    "print(resultado)"
   ]
  },
  {
   "cell_type": "code",
   "execution_count": 53,
   "id": "5f9749fd-b532-4a7f-bf55-42b919e1c19b",
   "metadata": {},
   "outputs": [],
   "source": [
    "def primocercano(a):\n",
    "    if esprimo(a):\n",
    "        return a    \n",
    "    menor = a - 1\n",
    "    mayor = a + 1    \n",
    "    while True:\n",
    "        if esprimo(menor):\n",
    "            return menor\n",
    "        if esprimo(mayor):\n",
    "            return mayor\n",
    "        \n",
    "        menor -= 1\n",
    "        mayor += 1"
   ]
  },
  {
   "cell_type": "code",
   "execution_count": 49,
   "id": "c5bacb7e-ab2e-4857-afa6-81d226c30480",
   "metadata": {},
   "outputs": [
    {
     "name": "stdout",
     "output_type": "stream",
     "text": [
      "11\n"
     ]
    }
   ],
   "source": [
    "resultado = primocercano(10)\n",
    "print(resultado)"
   ]
  },
  {
   "cell_type": "code",
   "execution_count": null,
   "id": "18076dc9-0707-47b8-9314-71039cca0b83",
   "metadata": {},
   "outputs": [],
   "source": []
  }
 ],
 "metadata": {
  "kernelspec": {
   "display_name": "Python 3 (ipykernel)",
   "language": "python",
   "name": "python3"
  },
  "language_info": {
   "codemirror_mode": {
    "name": "ipython",
    "version": 3
   },
   "file_extension": ".py",
   "mimetype": "text/x-python",
   "name": "python",
   "nbconvert_exporter": "python",
   "pygments_lexer": "ipython3",
   "version": "3.12.4"
  }
 },
 "nbformat": 4,
 "nbformat_minor": 5
}
